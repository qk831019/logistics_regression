{
 "cells": [
  {
   "cell_type": "code",
   "execution_count": 32,
   "metadata": {
    "collapsed": true
   },
   "outputs": [],
   "source": [
    "import pandas as pd\n",
    "import numpy as np\n",
    "import scipy as sp\n",
    "import os\n",
    "import statsmodels.api as sm\n",
    "import statsmodels.stats.outliers_influence\n",
    "import pylab as pl\n",
    "%matplotlib inline\n",
    "\n",
    "import matplotlib.pyplot as plt\n",
    "from pylab import *\n",
    "import statsmodels.stats.outliers_influence as oi\n",
    "from sklearn.metrics import roc_auc_score"
   ]
  },
  {
   "cell_type": "markdown",
   "metadata": {},
   "source": [
    "### Reading File and process LGD Case indicator, grouping REO_Close and Charge off"
   ]
  },
  {
   "cell_type": "code",
   "execution_count": 2,
   "metadata": {
    "collapsed": true
   },
   "outputs": [],
   "source": [
    "os.chdir(\"C:\\Users\\ub55123\\Desktop\\Kaggle\\MTG\")\n",
    "\n",
    "df = pd.read_csv('MTG_LGD_20150817.csv')\n",
    "\n",
    "y = np.arange(len(df.index))\n",
    "\n",
    "for i in y:\n",
    "    if df.iloc[i].lgd_case in ['REO_Close','CO']:\n",
    "        y[i] = 1\n",
    "    else: y[i] = 0\n",
    "\n",
    "df['lc'] = y  # This is target variable "
   ]
  },
  {
   "cell_type": "markdown",
   "metadata": {},
   "source": [
    "### Cut MOB into 10 equal buckets"
   ]
  },
  {
   "cell_type": "code",
   "execution_count": 4,
   "metadata": {
    "collapsed": true
   },
   "outputs": [],
   "source": [
    "df['MOBSeg'] = pd.cut(df.MOB,10,labels=np.arange(10))"
   ]
  },
  {
   "cell_type": "markdown",
   "metadata": {},
   "source": [
    "### Cut LTV into 10 equal bucktes. Cap LTV at 200%"
   ]
  },
  {
   "cell_type": "code",
   "execution_count": 5,
   "metadata": {
    "collapsed": true
   },
   "outputs": [],
   "source": [
    "df['LTV'] = df.mtm_hpi_ltv_imp * (df.mtm_hpi_ltv_imp < 2) + 2 * (df.mtm_hpi_ltv_imp >= 2)\n",
    "df['LTVSeg'] = pd.cut(df.LTV,10,labels=np.arange(10))"
   ]
  },
  {
   "cell_type": "markdown",
   "metadata": {},
   "source": [
    "### Caculate Odds Ratio by MOB and LTV buckets"
   ]
  },
  {
   "cell_type": "code",
   "execution_count": 9,
   "metadata": {
    "collapsed": false
   },
   "outputs": [],
   "source": [
    "MOBodds = np.arange(10,dtype=np.float)\n",
    "MOBct = np.arange(10)\n",
    "\n",
    "MOBodds[0] = sp.log(float(df.query('(MOBSeg==0) & (lc==1)').shape[0]) / float(df.query('(MOBSeg==0) & (lc==0)').shape[0]))\n",
    "MOBodds[1] = sp.log(float(df.query('(MOBSeg==1) & (lc==1)').shape[0]) / float(df.query('(MOBSeg==1) & (lc==0)').shape[0]))\n",
    "MOBodds[2] = sp.log(float(df.query('(MOBSeg==2) & (lc==1)').shape[0]) / float(df.query('(MOBSeg==2) & (lc==0)').shape[0]))\n",
    "MOBodds[3] = sp.log(float(df.query('(MOBSeg==3) & (lc==1)').shape[0]) / float(df.query('(MOBSeg==3) & (lc==0)').shape[0]))\n",
    "MOBodds[4] = sp.log(float(df.query('(MOBSeg==4) & (lc==1)').shape[0]) / float(df.query('(MOBSeg==4) & (lc==0)').shape[0]))\n",
    "MOBodds[5] = sp.log(float(df.query('(MOBSeg==5) & (lc==1)').shape[0]) / float(df.query('(MOBSeg==5) & (lc==0)').shape[0]))\n",
    "MOBodds[6] = sp.log(float(df.query('(MOBSeg==6) & (lc==1)').shape[0]) / float(df.query('(MOBSeg==6) & (lc==0)').shape[0]))\n",
    "MOBodds[7] = sp.log(float(df.query('(MOBSeg==7) & (lc==1)').shape[0]) / float(df.query('(MOBSeg==7) & (lc==0)').shape[0]))\n",
    "MOBodds[8] = sp.log(float(df.query('(MOBSeg==8) & (lc==1)').shape[0]) / float(df.query('(MOBSeg==8) & (lc==0)').shape[0]))\n",
    "MOBodds[9] = sp.log(float(df.query('(MOBSeg==9) & (lc==1)').shape[0]) / float(df.query('(MOBSeg==9) & (lc==0)').shape[0]))\n",
    "\n",
    "for i in np.arange(10):\n",
    "    MOBct[i] = df.query('MOBSeg==' + str(i)).shape[0]\n",
    "    \n",
    "    \n",
    "LTVodds = np.arange(10,dtype=np.float)\n",
    "LTVct = np.arange(10)\n",
    "\n",
    "LTVodds[0] = sp.log(float(df.query('(LTVSeg==0) & (lc==1)').shape[0]) / float(df.query('(LTVSeg==0) & (lc==0)').shape[0]))\n",
    "LTVodds[1] = sp.log(float(df.query('(LTVSeg==1) & (lc==1)').shape[0]) / float(df.query('(LTVSeg==1) & (lc==0)').shape[0]))\n",
    "LTVodds[2] = sp.log(float(df.query('(LTVSeg==2) & (lc==1)').shape[0]) / float(df.query('(LTVSeg==2) & (lc==0)').shape[0]))\n",
    "LTVodds[3] = sp.log(float(df.query('(LTVSeg==3) & (lc==1)').shape[0]) / float(df.query('(LTVSeg==3) & (lc==0)').shape[0]))\n",
    "LTVodds[4] = sp.log(float(df.query('(LTVSeg==4) & (lc==1)').shape[0]) / float(df.query('(LTVSeg==4) & (lc==0)').shape[0]))\n",
    "LTVodds[5] = sp.log(float(df.query('(LTVSeg==5) & (lc==1)').shape[0]) / float(df.query('(LTVSeg==5) & (lc==0)').shape[0]))\n",
    "LTVodds[6] = sp.log(float(df.query('(LTVSeg==6) & (lc==1)').shape[0]) / float(df.query('(LTVSeg==6) & (lc==0)').shape[0]))\n",
    "LTVodds[7] = sp.log(float(df.query('(LTVSeg==7) & (lc==1)').shape[0]) / float(df.query('(LTVSeg==7) & (lc==0)').shape[0]))\n",
    "LTVodds[8] = sp.log(float(df.query('(LTVSeg==8) & (lc==1)').shape[0]) / float(df.query('(LTVSeg==8) & (lc==0)').shape[0]))\n",
    "LTVodds[9] = sp.log(float(df.query('(LTVSeg==9) & (lc==1)').shape[0]) / float(df.query('(LTVSeg==9) & (lc==0)').shape[0]))\n",
    "\n",
    "for i in np.arange(10):\n",
    "    LTVct[i] = df.query('LTVSeg==' + str(i)).shape[0]"
   ]
  },
  {
   "cell_type": "markdown",
   "metadata": {},
   "source": [
    "### Making Scatter Plot"
   ]
  },
  {
   "cell_type": "code",
   "execution_count": 12,
   "metadata": {
    "collapsed": false
   },
   "outputs": [
    {
     "data": {
      "image/png": "[encoded data removed]",
      "text/plain": [
       "<matplotlib.figure.Figure at 0x19a984a8>"
      ]
     },
     "metadata": {},
     "output_type": "display_data"
    }
   ],
   "source": [
    "sct = scatter(np.arange(10), MOBodds, s=MOBct, linewidths=2, edgecolor='w')\n",
    "sct.set_alpha(0.75)"
   ]
  },
  {
   "cell_type": "code",
   "execution_count": 13,
   "metadata": {
    "collapsed": false
   },
   "outputs": [
    {
     "data": {
      "image/png": "[encoded data removed]",
      "text/plain": [
       "<matplotlib.figure.Figure at 0x1b184be0>"
      ]
     },
     "metadata": {},
     "output_type": "display_data"
    }
   ],
   "source": [
    "sct = scatter(np.arange(10), LTVodds, s=LTVct, linewidths=2, edgecolor='w')\n",
    "sct.set_alpha(0.75)"
   ]
  },
  {
   "cell_type": "markdown",
   "metadata": {},
   "source": [
    "#### From the plot, we could decide to use MOB directly. For LTV, we are going to create dummies for 0 or missing LTV."
   ]
  },
  {
   "cell_type": "markdown",
   "metadata": {},
   "source": [
    "### Create LTV= 0 dummy variable"
   ]
  },
  {
   "cell_type": "code",
   "execution_count": 15,
   "metadata": {
    "collapsed": true
   },
   "outputs": [],
   "source": [
    "df['LTV0'] =  (df.mtm_hpi_ltv_imp==0)*1"
   ]
  },
  {
   "cell_type": "markdown",
   "metadata": {},
   "source": [
    "### Seperate purchase loan vs other in purpose code"
   ]
  },
  {
   "cell_type": "code",
   "execution_count": 24,
   "metadata": {
    "collapsed": true
   },
   "outputs": [],
   "source": [
    "df['purpose'] = (df['PURPOSE_CD']==1)*1"
   ]
  },
  {
   "cell_type": "markdown",
   "metadata": {},
   "source": [
    "### Process property type: SF - 1, Condo - 2, Others - 0"
   ]
  },
  {
   "cell_type": "code",
   "execution_count": 25,
   "metadata": {
    "collapsed": true
   },
   "outputs": [],
   "source": [
    "df['propertytype'] = df['PROPERTY_TYPE_CD'].isin([1,11,12,13,14,15,20]) * 1 + df['PROPERTY_TYPE_CD'].isin([2,3,4]) * 2"
   ]
  },
  {
   "cell_type": "markdown",
   "metadata": {},
   "source": [
    "### Processs Mortgaget type: Fix - 1, ARM and IOs - 0"
   ]
  },
  {
   "cell_type": "code",
   "execution_count": 27,
   "metadata": {
    "collapsed": true
   },
   "outputs": [],
   "source": [
    "df.mortgage_type = df.mortgage_type.fillna('other')\n",
    "df['mtgtype'] = (df.mortgage_type=='fix') * 1"
   ]
  },
  {
   "cell_type": "markdown",
   "metadata": {},
   "source": [
    "## Model Fitting"
   ]
  },
  {
   "cell_type": "markdown",
   "metadata": {},
   "source": [
    "### Model1: LTV0 and LTV"
   ]
  },
  {
   "cell_type": "code",
   "execution_count": 37,
   "metadata": {
    "collapsed": false
   },
   "outputs": [
    {
     "name": "stdout",
     "output_type": "stream",
     "text": [
      "Optimization terminated successfully.\n",
      "         Current function value: 0.588126\n",
      "         Iterations 9\n",
      "                           Logit Regression Results                           \n",
      "==============================================================================\n",
      "Dep. Variable:                     lc   No. Observations:                 2116\n",
      "Model:                          Logit   Df Residuals:                     2114\n",
      "Method:                           MLE   Df Model:                            1\n",
      "Date:                Thu, 03 Sep 2015   Pseudo R-squ.:                  0.1224\n",
      "Time:                        16:36:55   Log-Likelihood:                -1244.5\n",
      "converged:                       True   LL-Null:                       -1418.0\n",
      "                                        LLR p-value:                 1.770e-77\n",
      "===================================================================================\n",
      "                      coef    std err          z      P>|z|      [95.0% Conf. Int.]\n",
      "-----------------------------------------------------------------------------------\n",
      "LTV0                5.2364      1.003      5.223      0.000         3.271     7.202\n",
      "mtm_hpi_ltv_imp     0.5139      0.048     10.776      0.000         0.420     0.607\n",
      "===================================================================================\n",
      "AUROC is 0.802756372813\n"
     ]
    }
   ],
   "source": [
    "train_cols = ['LTV0','mtm_hpi_ltv_imp']\n",
    "model = sm.Logit(df.lc,df[train_cols])\n",
    "result = model.fit()\n",
    "print result.summary()\n",
    "\n",
    "pred = result.predict()\n",
    "y = df.lc.values\n",
    "print \"AUROC is \" + str(roc_auc_score(y, pred))"
   ]
  },
  {
   "cell_type": "markdown",
   "metadata": {},
   "source": [
    "### Model 2 : Add MOB"
   ]
  },
  {
   "cell_type": "code",
   "execution_count": 38,
   "metadata": {
    "collapsed": false
   },
   "outputs": [
    {
     "name": "stdout",
     "output_type": "stream",
     "text": [
      "Optimization terminated successfully.\n",
      "         Current function value: 0.497732\n",
      "         Iterations 9\n",
      "                           Logit Regression Results                           \n",
      "==============================================================================\n",
      "Dep. Variable:                     lc   No. Observations:                 2116\n",
      "Model:                          Logit   Df Residuals:                     2113\n",
      "Method:                           MLE   Df Model:                            2\n",
      "Date:                Thu, 03 Sep 2015   Pseudo R-squ.:                  0.2573\n",
      "Time:                        16:37:59   Log-Likelihood:                -1053.2\n",
      "converged:                       True   LL-Null:                       -1418.0\n",
      "                                        LLR p-value:                3.534e-159\n",
      "===================================================================================\n",
      "                      coef    std err          z      P>|z|      [95.0% Conf. Int.]\n",
      "-----------------------------------------------------------------------------------\n",
      "LTV0                6.9979      1.011      6.924      0.000         5.017     8.979\n",
      "mtm_hpi_ltv_imp     2.1559      0.118     18.258      0.000         1.924     2.387\n",
      "MOB                -0.0278      0.002    -15.919      0.000        -0.031    -0.024\n",
      "===================================================================================\n",
      "AUROC is 0.821171818835\n"
     ]
    }
   ],
   "source": [
    "train_cols = ['LTV0','mtm_hpi_ltv_imp', 'MOB']\n",
    "model = sm.Logit(df.lc,df[train_cols])\n",
    "result = model.fit()\n",
    "print result.summary()\n",
    "\n",
    "pred = result.predict()\n",
    "y = df.lc.values\n",
    "print \"AUROC is \" + str(roc_auc_score(y, pred))"
   ]
  },
  {
   "cell_type": "markdown",
   "metadata": {},
   "source": [
    "### Model 3 : Add Purpose and Property type"
   ]
  },
  {
   "cell_type": "code",
   "execution_count": 39,
   "metadata": {
    "collapsed": false
   },
   "outputs": [
    {
     "name": "stdout",
     "output_type": "stream",
     "text": [
      "Optimization terminated successfully.\n",
      "         Current function value: 0.488477\n",
      "         Iterations 9\n",
      "                           Logit Regression Results                           \n",
      "==============================================================================\n",
      "Dep. Variable:                     lc   No. Observations:                 2116\n",
      "Model:                          Logit   Df Residuals:                     2111\n",
      "Method:                           MLE   Df Model:                            4\n",
      "Date:                Thu, 03 Sep 2015   Pseudo R-squ.:                  0.2711\n",
      "Time:                        16:41:13   Log-Likelihood:                -1033.6\n",
      "converged:                       True   LL-Null:                       -1418.0\n",
      "                                        LLR p-value:                4.256e-165\n",
      "===================================================================================\n",
      "                      coef    std err          z      P>|z|      [95.0% Conf. Int.]\n",
      "-----------------------------------------------------------------------------------\n",
      "LTV0                7.0021      1.013      6.913      0.000         5.017     8.987\n",
      "mtm_hpi_ltv_imp     2.2447      0.131     17.189      0.000         1.989     2.501\n",
      "MOB                -0.0266      0.002    -14.760      0.000        -0.030    -0.023\n",
      "propertytype       -0.5121      0.105     -4.874      0.000        -0.718    -0.306\n",
      "purpose             0.3631      0.113      3.222      0.001         0.142     0.584\n",
      "===================================================================================\n",
      "AUROC is 0.8271617766\n"
     ]
    }
   ],
   "source": [
    "train_cols = ['LTV0','mtm_hpi_ltv_imp','MOB','propertytype','purpose']\n",
    "model = sm.Logit(df.lc,df[train_cols])\n",
    "result = model.fit()\n",
    "print result.summary()\n",
    "\n",
    "pred = result.predict()\n",
    "y = df.lc.values\n",
    "print \"AUROC is \" + str(roc_auc_score(y, pred))"
   ]
  },
  {
   "cell_type": "markdown",
   "metadata": {},
   "source": [
    "### Model 4 : Add Mortgage Type"
   ]
  },
  {
   "cell_type": "code",
   "execution_count": 40,
   "metadata": {
    "collapsed": false
   },
   "outputs": [
    {
     "name": "stdout",
     "output_type": "stream",
     "text": [
      "Optimization terminated successfully.\n",
      "         Current function value: 0.487078\n",
      "         Iterations 9\n",
      "                           Logit Regression Results                           \n",
      "==============================================================================\n",
      "Dep. Variable:                     lc   No. Observations:                 2116\n",
      "Model:                          Logit   Df Residuals:                     2110\n",
      "Method:                           MLE   Df Model:                            5\n",
      "Date:                Thu, 03 Sep 2015   Pseudo R-squ.:                  0.2732\n",
      "Time:                        16:41:57   Log-Likelihood:                -1030.7\n",
      "converged:                       True   LL-Null:                       -1418.0\n",
      "                                        LLR p-value:                3.294e-165\n",
      "===================================================================================\n",
      "                      coef    std err          z      P>|z|      [95.0% Conf. Int.]\n",
      "-----------------------------------------------------------------------------------\n",
      "LTV0                6.9742      1.013      6.885      0.000         4.989     8.960\n",
      "mtm_hpi_ltv_imp     2.2295      0.131     17.040      0.000         1.973     2.486\n",
      "MOB                -0.0259      0.002    -14.102      0.000        -0.029    -0.022\n",
      "propertytype       -0.4691      0.107     -4.399      0.000        -0.678    -0.260\n",
      "purpose             0.3510      0.113      3.107      0.002         0.130     0.572\n",
      "mtgtype            -0.3477      0.143     -2.433      0.015        -0.628    -0.068\n",
      "===================================================================================\n",
      "AUROC is 0.829984049245\n"
     ]
    }
   ],
   "source": [
    "train_cols = ['LTV0','mtm_hpi_ltv_imp','MOB','propertytype','purpose','mtgtype']\n",
    "model = sm.Logit(df.lc,df[train_cols])\n",
    "result = model.fit()\n",
    "print result.summary()\n",
    "\n",
    "pred = result.predict()\n",
    "y = df.lc.values\n",
    "print \"AUROC is \" + str(roc_auc_score(y, pred))"
   ]
  },
  {
   "cell_type": "markdown",
   "metadata": {},
   "source": [
    "### Model 5 : Add only property type"
   ]
  },
  {
   "cell_type": "code",
   "execution_count": 41,
   "metadata": {
    "collapsed": false
   },
   "outputs": [
    {
     "name": "stdout",
     "output_type": "stream",
     "text": [
      "Optimization terminated successfully.\n",
      "         Current function value: 0.490943\n",
      "         Iterations 9\n",
      "                           Logit Regression Results                           \n",
      "==============================================================================\n",
      "Dep. Variable:                     lc   No. Observations:                 2116\n",
      "Model:                          Logit   Df Residuals:                     2112\n",
      "Method:                           MLE   Df Model:                            3\n",
      "Date:                Thu, 03 Sep 2015   Pseudo R-squ.:                  0.2674\n",
      "Time:                        16:46:54   Log-Likelihood:                -1038.8\n",
      "converged:                       True   LL-Null:                       -1418.0\n",
      "                                        LLR p-value:                4.483e-164\n",
      "===================================================================================\n",
      "                      coef    std err          z      P>|z|      [95.0% Conf. Int.]\n",
      "-----------------------------------------------------------------------------------\n",
      "LTV0                7.1460      1.012      7.063      0.000         5.163     9.129\n",
      "mtm_hpi_ltv_imp     2.3605      0.127     18.569      0.000         2.111     2.610\n",
      "MOB                -0.0259      0.002    -14.529      0.000        -0.029    -0.022\n",
      "propertytype       -0.5533      0.104     -5.317      0.000        -0.757    -0.349\n",
      "===================================================================================\n",
      "AUROC is 0.827213260844\n"
     ]
    }
   ],
   "source": [
    "train_cols = ['LTV0','mtm_hpi_ltv_imp','MOB','propertytype']\n",
    "model = sm.Logit(df.lc,df[train_cols])\n",
    "result = model.fit()\n",
    "print result.summary()\n",
    "\n",
    "pred = result.predict()\n",
    "y = df.lc.values\n",
    "print \"AUROC is \" + str(roc_auc_score(y, pred))"
   ]
  },
  {
   "cell_type": "code",
   "execution_count": 42,
   "metadata": {
    "collapsed": false
   },
   "outputs": [
    {
     "data": {
      "text/plain": [
       "'C:\\\\Users\\\\ub55123\\\\Desktop\\\\Kaggle\\\\MTG'"
      ]
     },
     "execution_count": 42,
     "metadata": {},
     "output_type": "execute_result"
    }
   ],
   "source": [
    "import os\n",
    "os.getcwd()"
   ]
  },
  {
   "cell_type": "code",
   "execution_count": null,
   "metadata": {
    "collapsed": true
   },
   "outputs": [],
   "source": []
  }
 ],
 "metadata": {
  "kernelspec": {
   "display_name": "Python 2",
   "language": "python",
   "name": "python2"
  },
  "language_info": {
   "codemirror_mode": {
    "name": "ipython",
    "version": 2
   },
   "file_extension": ".py",
   "mimetype": "text/x-python",
   "name": "python",
   "nbconvert_exporter": "python",
   "pygments_lexer": "ipython2",
   "version": "2.7.9"
  }
 },
 "nbformat": 4,
 "nbformat_minor": 0
}
